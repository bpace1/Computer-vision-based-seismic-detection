{
 "cells": [
  {
   "cell_type": "markdown",
   "metadata": {},
   "source": [
    "## Librerias"
   ]
  },
  {
   "cell_type": "code",
   "execution_count": 19,
   "metadata": {},
   "outputs": [],
   "source": [
    "import matplotlib.pyplot as plt\n",
    "from scipy import signal\n",
    "from matplotlib import cm\n",
    "import cv2\n",
    "from obspy import read\n",
    "import numpy as np\n",
    "import pandas as pd\n",
    "import random as rng\n",
    "import seaborn as sns"
   ]
  },
  {
   "cell_type": "markdown",
   "metadata": {},
   "source": [
    "## Funciones a utilizar "
   ]
  },
  {
   "cell_type": "code",
   "execution_count": 20,
   "metadata": {},
   "outputs": [],
   "source": [
    "def get_tr(path):\n",
    "    ###\n",
    "    #Esta funcion obtiene una variable st a partir de un archivo .mseed\n",
    "    #Luego obtiene las traces de dicho archivo\n",
    "    # Filtra el st segun una freq min y max\n",
    "    # obtiene las traces del archivo filtrado y las retorna.\n",
    "    ###\n",
    "    st = read(path)\n",
    "    tr = st.traces[0].copy()\n",
    "    st_filt = st.copy()\n",
    "    st_filt.filter('bandpass', freqmin = 0.5, freqmax = 1.0)\n",
    "    tr_filt = st.traces[0].copy()\n",
    "    return tr_filt"
   ]
  },
  {
   "cell_type": "code",
   "execution_count": 21,
   "metadata": {},
   "outputs": [],
   "source": [
    "def imagen(tr_filt, axv1 = None, axv2 = None):\n",
    "    ###\n",
    "    #Esta función hace un plot 2d:\n",
    "    # x: relative time\n",
    "    # y : frecuencia hz\n",
    "    #Luego guarda la funcion en una imagen.\n",
    "    #Carga la imagen en una variable\n",
    "    #Recorta el cuadrado de información de la imagen.\n",
    "    # Devuelve la imagen en formato np.array\n",
    "    ###\n",
    "\n",
    "    tr_times_filt = tr_filt.times()\n",
    "    tr_time_len = max(tr_times_filt)\n",
    "    tr_data_filt = tr_filt.data\n",
    "    f, t, sxx = signal.spectrogram(tr_data_filt, tr_filt.stats.sampling_rate)\n",
    "\n",
    "    # Calcular el valor máximo para usarlo en vmax (si es necesario)\n",
    "    vmax_val = np.max(sxx)\n",
    "    # Creo la gráfica sin mostrarla\n",
    "    fig, ax2 = plt.subplots()\n",
    "    vals = ax2.pcolormesh(t, f, sxx, cmap=cm.jet, vmax=vmax_val)\n",
    "    ax2.set_xlim([min(tr_times_filt), max(tr_times_filt)])\n",
    "    ax2.set_xlabel('Time (Day Hour:Minute)', fontweight='bold')\n",
    "    ax2.set_ylabel('Frequency (Hz)', fontweight='bold')\n",
    "\n",
    "    if axv1 and axv2:     \n",
    "        ax2.axvline(axv1, c = 'red')\n",
    "        ax2.axvline(axv2, c = 'green')\n",
    "    plt.savefig('imagen.png')\n",
    "    plt.close(fig)\n",
    "    \n",
    "    imagen = cv2.imread('imagen.png', cv2.IMREAD_GRAYSCALE)\n",
    "    x_0  = 81\n",
    "    x_1  = 574\n",
    "    y_0 = 259\n",
    "    y_1 = 425\n",
    "    imagen =imagen[y_0:y_1,x_0:x_1]\n",
    "\n",
    "    return imagen, tr_time_len\n",
    "\n"
   ]
  },
  {
   "cell_type": "code",
   "execution_count": 22,
   "metadata": {},
   "outputs": [],
   "source": [
    "def sec_x_pix(img, tr_filt):\n",
    "    ###\n",
    "    #Esta función saca la proporción seg / pixel\n",
    "    # a partir de una imagen dada y de un trace filtrado\n",
    "    ###\n",
    "    len = img.shape[1]\n",
    "    sec = max(tr_filt.times())\n",
    "    sxp = sec / len\n",
    "    return sxp"
   ]
  },
  {
   "cell_type": "code",
   "execution_count": 83,
   "metadata": {},
   "outputs": [],
   "source": [
    "def imadjust(image,vout=[0,255], gamma=1):\n",
    "    # image: imagen en escalas de grises.\n",
    "    # vout: Límites de los valores de intensidad de la imagen de salida\n",
    "    # img_ajustada     : Imagen de salida\n",
    "    range = np.max(image)-np.min(image)\n",
    "    d = (range // 2) - 5\n",
    "    vin = [np.min(image)+ d, np.max(image)-d]\n",
    "\n",
    "    #vin = [78, 85]\n",
    "    img_ajustada = (((image - vin[0]) / (vin[1] - vin[0])) ** gamma) * (vout[1] - vout[0]) + vout[0]\n",
    "    img_ajustada[image<vin[0]] = vout[0]   # Valores menores que el mínimo se mapean a 0\n",
    "    img_ajustada[image>vin[1]] = vout[1]   # Valores mayores que el maximo se mapean a 255\n",
    "    if image.dtype==np.uint8:\n",
    "       img_ajustada = np.uint8(np.clip(np.round(img_ajustada), 0, 255))   # Numpy underflows/overflows para valores fuera de rango, se debe utilizar clip.\n",
    "    return img_ajustada"
   ]
  },
  {
   "cell_type": "code",
   "execution_count": 110,
   "metadata": {},
   "outputs": [],
   "source": [
    "def detect(image,type_mq, sh = None):\n",
    "    ###\n",
    "    # Esta función detecta aquellos sectores de la imagen.\n",
    "    # que tienen frecuencia sísmica que se destaca.\n",
    "    # Lo hace detectando cambios en la imagen.\n",
    "    # Encuentra los contornos y dibuja rectángulos sobre\n",
    "    # las áreas detectadas.\n",
    "    # Devuelve los valores min y max del eje x entre todos los contornos.\n",
    "    # si sh = True, plotea la imagen del/los rectángulo/s detectado/S\n",
    "    ###\n",
    "    if type_mq == 'impact_mq':\n",
    "        t2 = 0.3\n",
    "        kernel = (3,3)\n",
    "        minim_area = 2\n",
    "        sigma = 2\n",
    "    if type_mq == 'deep_mq':\n",
    "        t2 = 0.2\n",
    "        kernel = (5,5)\n",
    "        minim_area = 4\n",
    "        sigma = 2\n",
    "    if type_mq== 'shallow_mq':\n",
    "        minim_area = 4\n",
    "        t2 = 0.2\n",
    "        kernel = (3,3)\n",
    "        sigma = 2\n",
    "    if type_mq == 'mars':\n",
    "        minim_area = 4\n",
    "        t2 =0.7\n",
    "        kernel = (5,5)\n",
    "        sigma = 2\n",
    "    if type_mq == 'else':\n",
    "        t2 = 0.2\n",
    "        kernel = (5,5)\n",
    "        minim_area = 4\n",
    "        sigma = 2\n",
    "\n",
    "    # Copia de la imagen original\n",
    "    im_graf = image.copy()\n",
    "    \n",
    "    print(np.min(im_graf),np.max(im_graf))\n",
    "\n",
    "    # Ajuste de contraste\n",
    "    img_umbralada = imadjust(im_graf)\n",
    "    \n",
    "    # Aplicar Gaussian Blur\n",
    "    img_blur = cv2.GaussianBlur(img_umbralada, kernel, sigma)  # Aumentar el tamaño del kernel y el sigma\n",
    "    \n",
    "    # Aplicar Canny con umbrales ajustados\n",
    "    img_canny = cv2.Canny(img_blur, threshold1=0.05 * 255, threshold2=t2*255)  # Umbrales fijos en lugar de proporcionales\n",
    "    \n",
    "    # Encontrar contornos\n",
    "    contours, _ = cv2.findContours(img_canny, cv2.RETR_TREE, cv2.CHAIN_APPROX_SIMPLE)\n",
    "    \n",
    "    # Inicializar listas\n",
    "    positions_x = []\n",
    "    boundRect = []\n",
    "\n",
    "    for c in contours:\n",
    "        # Filtrar contornos pequeños\n",
    "        if cv2.contourArea(c) > minim_area:  # Filtrar contornos menores a un área de 100 píxeles\n",
    "            # Aproximar contornos a polígonos y obtener el rectángulo de contorno\n",
    "            contours_poly = cv2.approxPolyDP(c, 3, True)\n",
    "            boundRect.append(cv2.boundingRect(contours_poly))\n",
    "\n",
    "    # Calcular posiciones x\n",
    "    for i in boundRect:\n",
    "        x_0 = i[0]\n",
    "        x_1 = i[0] + i[2]\n",
    "        positions_x.append(x_0)\n",
    "        positions_x.append(x_1)\n",
    "\n",
    "    # Determinar los valores mínimos y máximos\n",
    "    x_min = min(positions_x) if positions_x else None\n",
    "    x_max = max(positions_x) if positions_x else None\n",
    "\n",
    "    # Crear imagen de dibujo\n",
    "    drawing = np.zeros((img_canny.shape[0], img_canny.shape[1], 3), dtype=np.uint8)\n",
    "    \n",
    "\n",
    "    # Dibujar los rectángulos alrededor de los contornos\n",
    "    for i in boundRect:\n",
    "        color = (np.random.randint(0, 256), np.random.randint(0, 256), np.random.randint(0, 256))\n",
    "        cv2.rectangle(drawing, (i[0], i[1]), (i[0] + i[2], i[1] + i[3]), color, 1)\n",
    "\n",
    "    if sh:    \n",
    "        # Mostrar la imagen con contornos\n",
    "        plt.imshow(cv2.cvtColor(drawing, cv2.COLOR_BGR2RGB))\n",
    "        plt.axis('off')  # Desactivar los ejes\n",
    "        plt.show()\n",
    "    \n",
    "\n",
    "    return x_min, x_max\n"
   ]
  },
  {
   "cell_type": "code",
   "execution_count": 25,
   "metadata": {},
   "outputs": [],
   "source": [
    "def arrival_end(x_min,x_max, sxp):\n",
    "    ###\n",
    "    #Esta función pasa el valor x_min y x_max\n",
    "    # a valor relative(sec)\n",
    "    # a raíz de una propoción segundo por pixel\n",
    "    ###\n",
    "    arrival = x_min*sxp\n",
    "    end = x_max*sxp\n",
    "    return arrival,end"
   ]
  },
  {
   "cell_type": "code",
   "execution_count": 50,
   "metadata": {},
   "outputs": [],
   "source": [
    "def detect_arrival_end_catalog(path_catalog, type, sh = False):\n",
    "    ###\n",
    "    #Esta función ejecuta todas las funciones anteriores para cada dato del dataset training\n",
    "    # mencionado en el catalogo pasado como path.\n",
    "    ###\n",
    "    catalog = pd.read_csv(path_catalog)\n",
    "    if type == 'lunar':\n",
    "        path = f'data/{type}/training/data/S12_GradeA/'\n",
    "    else:\n",
    "        path = f'data/{type}/training/data/'\n",
    "    arrival_list = []\n",
    "    end_list = [] \n",
    "    time_len_list = []\n",
    "    for i in range(len(catalog)):\n",
    "        file = catalog.iloc[i].filename\n",
    "        if type == 'lunar':\n",
    "            mq_type = catalog.iloc[i].mq_type\n",
    "            if file == 'xa.s12.00.mhz.1971-04-13HR00_evid00029':\n",
    "                file = 'xa.s12.00.mhz.1971-04-13HR02_evid00029'\n",
    "            path_file = f'{path}{file}.mseed'\n",
    "\n",
    "        else:\n",
    "            mq_type = 'mars'\n",
    "            path_file = f'{path}{file[:-4]}.mseed'\n",
    "        print(file)\n",
    "        tr_filt = get_tr(path_file)\n",
    "        img, time_len = imagen(tr_filt)\n",
    "        sxp = sec_x_pix(img, tr_filt)\n",
    "        x_min, x_max= detect(img, mq_type, sh = sh)\n",
    "        arrival, end = arrival_end(x_min,x_max,sxp)\n",
    "        # Agregar los resultados a las listas\n",
    "        time_len_list.append(time_len)\n",
    "        arrival_list.append(arrival)\n",
    "        end_list.append(end)\n",
    "    catalog['arrival_img'] = arrival_list\n",
    "    catalog['end_img'] = end_list\n",
    "    catalog['len_time'] = time_len_list\n",
    "    return catalog      "
   ]
  },
  {
   "cell_type": "markdown",
   "metadata": {},
   "source": [
    "## Deteccion arrival y end para Lunar train"
   ]
  },
  {
   "cell_type": "markdown",
   "metadata": {},
   "source": [
    "Se realiza la detección de arrival y end para cada archivo del catálogo training de moon"
   ]
  },
  {
   "cell_type": "code",
   "execution_count": 58,
   "metadata": {},
   "outputs": [],
   "source": [
    "moon_catalog = pd.read_csv('./data/lunar/training/catalogs/apollo12_catalog_GradeA_final.csv')"
   ]
  },
  {
   "cell_type": "code",
   "execution_count": 111,
   "metadata": {},
   "outputs": [
    {
     "name": "stdout",
     "output_type": "stream",
     "text": [
      "xa.s12.00.mhz.1970-01-19HR00_evid00002\n",
      "13 214\n"
     ]
    },
    {
     "data": {
      "image/png": "[encoded data removed]",
      "text/plain": [
       "<Figure size 640x480 with 1 Axes>"
      ]
     },
     "metadata": {},
     "output_type": "display_data"
    },
    {
     "name": "stdout",
     "output_type": "stream",
     "text": [
      "xa.s12.00.mhz.1970-03-25HR00_evid00003\n",
      "13 217\n"
     ]
    },
    {
     "data": {
      "image/png": "[encoded data removed]",
      "text/plain": [
       "<Figure size 640x480 with 1 Axes>"
      ]
     },
     "metadata": {},
     "output_type": "display_data"
    },
    {
     "name": "stdout",
     "output_type": "stream",
     "text": [
      "xa.s12.00.mhz.1970-03-26HR00_evid00004\n",
      "13 188\n"
     ]
    },
    {
     "data": {
      "image/png": "[encoded data removed]",
      "text/plain": [
       "<Figure size 640x480 with 1 Axes>"
      ]
     },
     "metadata": {},
     "output_type": "display_data"
    },
    {
     "name": "stdout",
     "output_type": "stream",
     "text": [
      "xa.s12.00.mhz.1970-04-25HR00_evid00006\n",
      "13 210\n"
     ]
    },
    {
     "data": {
      "image/png": "[encoded data removed]",
      "text/plain": [
       "<Figure size 640x480 with 1 Axes>"
      ]
     },
     "metadata": {},
     "output_type": "display_data"
    },
    {
     "name": "stdout",
     "output_type": "stream",
     "text": [
      "xa.s12.00.mhz.1970-04-26HR00_evid00007\n",
      "13 214\n"
     ]
    },
    {
     "data": {
      "image/png": "[encoded data removed]",
      "text/plain": [
       "<Figure size 640x480 with 1 Axes>"
      ]
     },
     "metadata": {},
     "output_type": "display_data"
    },
    {
     "name": "stdout",
     "output_type": "stream",
     "text": [
      "xa.s12.00.mhz.1970-06-15HR00_evid00008\n",
      "13 215\n"
     ]
    },
    {
     "data": {
      "image/png": "[encoded data removed]",
      "text/plain": [
       "<Figure size 640x480 with 1 Axes>"
      ]
     },
     "metadata": {},
     "output_type": "display_data"
    },
    {
     "name": "stdout",
     "output_type": "stream",
     "text": [
      "xa.s12.00.mhz.1970-06-26HR00_evid00009\n",
      "13 200\n"
     ]
    },
    {
     "data": {
      "image/png": "[encoded data removed]",
      "text/plain": [
       "<Figure size 640x480 with 1 Axes>"
      ]
     },
     "metadata": {},
     "output_type": "display_data"
    },
    {
     "name": "stdout",
     "output_type": "stream",
     "text": [
      "xa.s12.00.mhz.1970-07-20HR00_evid00010\n",
      "13 202\n"
     ]
    },
    {
     "data": {
      "image/png": "[encoded data removed]",
      "text/plain": [
       "<Figure size 640x480 with 1 Axes>"
      ]
     },
     "metadata": {},
     "output_type": "display_data"
    },
    {
     "name": "stdout",
     "output_type": "stream",
     "text": [
      "xa.s12.00.mhz.1970-07-20HR00_evid00011\n",
      "13 202\n"
     ]
    },
    {
     "data": {
      "image/png": "[encoded data removed]",
      "text/plain": [
       "<Figure size 640x480 with 1 Axes>"
      ]
     },
     "metadata": {},
     "output_type": "display_data"
    },
    {
     "name": "stdout",
     "output_type": "stream",
     "text": [
      "xa.s12.00.mhz.1970-09-26HR00_evid00013\n",
      "13 200\n"
     ]
    },
    {
     "data": {
      "image/png": "[encoded data removed]",
      "text/plain": [
       "<Figure size 640x480 with 1 Axes>"
      ]
     },
     "metadata": {},
     "output_type": "display_data"
    },
    {
     "name": "stdout",
     "output_type": "stream",
     "text": [
      "xa.s12.00.mhz.1970-10-24HR00_evid00014\n",
      "13 204\n"
     ]
    },
    {
     "data": {
      "image/png": "[encoded data removed]",
      "text/plain": [
       "<Figure size 640x480 with 1 Axes>"
      ]
     },
     "metadata": {},
     "output_type": "display_data"
    },
    {
     "name": "stdout",
     "output_type": "stream",
     "text": [
      "xa.s12.00.mhz.1970-11-12HR00_evid00015\n",
      "13 90\n"
     ]
    },
    {
     "data": {
      "image/png": "[encoded data removed]",
      "text/plain": [
       "<Figure size 640x480 with 1 Axes>"
      ]
     },
     "metadata": {},
     "output_type": "display_data"
    },
    {
     "name": "stdout",
     "output_type": "stream",
     "text": [
      "xa.s12.00.mhz.1970-12-11HR00_evid00017\n",
      "13 164\n"
     ]
    },
    {
     "data": {
      "image/png": "[encoded data removed]",
      "text/plain": [
       "<Figure size 640x480 with 1 Axes>"
      ]
     },
     "metadata": {},
     "output_type": "display_data"
    },
    {
     "name": "stdout",
     "output_type": "stream",
     "text": [
      "xa.s12.00.mhz.1970-12-27HR00_evid00019\n",
      "13 211\n"
     ]
    },
    {
     "data": {
      "image/png": "[encoded data removed]",
      "text/plain": [
       "<Figure size 640x480 with 1 Axes>"
      ]
     },
     "metadata": {},
     "output_type": "display_data"
    },
    {
     "name": "stdout",
     "output_type": "stream",
     "text": [
      "xa.s12.00.mhz.1970-12-31HR00_evid00021\n",
      "13 29\n"
     ]
    },
    {
     "data": {
      "image/png": "[encoded data removed]",
      "text/plain": [
       "<Figure size 640x480 with 1 Axes>"
      ]
     },
     "metadata": {},
     "output_type": "display_data"
    },
    {
     "name": "stdout",
     "output_type": "stream",
     "text": [
      "xa.s12.00.mhz.1971-01-15HR00_evid00022\n",
      "13 214\n"
     ]
    },
    {
     "data": {
      "image/png": "[encoded data removed]",
      "text/plain": [
       "<Figure size 640x480 with 1 Axes>"
      ]
     },
     "metadata": {},
     "output_type": "display_data"
    },
    {
     "name": "stdout",
     "output_type": "stream",
     "text": [
      "xa.s12.00.mhz.1971-01-28HR00_evid00023\n",
      "13 184\n"
     ]
    },
    {
     "data": {
      "image/png": "[encoded data removed]",
      "text/plain": [
       "<Figure size 640x480 with 1 Axes>"
      ]
     },
     "metadata": {},
     "output_type": "display_data"
    },
    {
     "name": "stdout",
     "output_type": "stream",
     "text": [
      "xa.s12.00.mhz.1971-01-29HR00_evid00024\n",
      "13 198\n"
     ]
    },
    {
     "data": {
      "image/png": "[encoded data removed]",
      "text/plain": [
       "<Figure size 640x480 with 1 Axes>"
      ]
     },
     "metadata": {},
     "output_type": "display_data"
    },
    {
     "name": "stdout",
     "output_type": "stream",
     "text": [
      "xa.s12.00.mhz.1971-02-09HR00_evid00026\n",
      "13 121\n"
     ]
    },
    {
     "data": {
      "image/png": "[encoded data removed]",
      "text/plain": [
       "<Figure size 640x480 with 1 Axes>"
      ]
     },
     "metadata": {},
     "output_type": "display_data"
    },
    {
     "name": "stdout",
     "output_type": "stream",
     "text": [
      "xa.s12.00.mhz.1971-03-25HR00_evid00028\n",
      "13 211\n"
     ]
    },
    {
     "data": {
      "image/png": "[encoded data removed]",
      "text/plain": [
       "<Figure size 640x480 with 1 Axes>"
      ]
     },
     "metadata": {},
     "output_type": "display_data"
    },
    {
     "name": "stdout",
     "output_type": "stream",
     "text": [
      "xa.s12.00.mhz.1971-04-13HR02_evid00029\n",
      "13 215\n"
     ]
    },
    {
     "data": {
      "image/png": "[encoded data removed]",
      "text/plain": [
       "<Figure size 640x480 with 1 Axes>"
      ]
     },
     "metadata": {},
     "output_type": "display_data"
    },
    {
     "name": "stdout",
     "output_type": "stream",
     "text": [
      "xa.s12.00.mhz.1971-04-17HR00_evid00030\n",
      "13 210\n"
     ]
    },
    {
     "data": {
      "image/png": "[encoded data removed]",
      "text/plain": [
       "<Figure size 640x480 with 1 Axes>"
      ]
     },
     "metadata": {},
     "output_type": "display_data"
    },
    {
     "name": "stdout",
     "output_type": "stream",
     "text": [
      "xa.s12.00.mhz.1971-05-12HR00_evid00031\n",
      "13 187\n"
     ]
    },
    {
     "data": {
      "image/png": "[encoded data removed]",
      "text/plain": [
       "<Figure size 640x480 with 1 Axes>"
      ]
     },
     "metadata": {},
     "output_type": "display_data"
    },
    {
     "name": "stdout",
     "output_type": "stream",
     "text": [
      "xa.s12.00.mhz.1971-05-12HR00_evid00032\n",
      "13 187\n"
     ]
    },
    {
     "data": {
      "image/png": "[encoded data removed]",
      "text/plain": [
       "<Figure size 640x480 with 1 Axes>"
      ]
     },
     "metadata": {},
     "output_type": "display_data"
    },
    {
     "name": "stdout",
     "output_type": "stream",
     "text": [
      "xa.s12.00.mhz.1971-05-13HR00_evid00033\n",
      "13 218\n"
     ]
    },
    {
     "data": {
      "image/png": "[encoded data removed]",
      "text/plain": [
       "<Figure size 640x480 with 1 Axes>"
      ]
     },
     "metadata": {},
     "output_type": "display_data"
    },
    {
     "name": "stdout",
     "output_type": "stream",
     "text": [
      "xa.s12.00.mhz.1971-05-23HR00_evid00034\n",
      "13 218\n"
     ]
    },
    {
     "data": {
      "image/png": "[encoded data removed]",
      "text/plain": [
       "<Figure size 640x480 with 1 Axes>"
      ]
     },
     "metadata": {},
     "output_type": "display_data"
    },
    {
     "name": "stdout",
     "output_type": "stream",
     "text": [
      "xa.s12.00.mhz.1971-06-12HR00_evid00035\n",
      "13 211\n"
     ]
    },
    {
     "data": {
      "image/png": "[encoded data removed]",
      "text/plain": [
       "<Figure size 640x480 with 1 Axes>"
      ]
     },
     "metadata": {},
     "output_type": "display_data"
    },
    {
     "name": "stdout",
     "output_type": "stream",
     "text": [
      "xa.s12.00.mhz.1971-09-25HR00_evid00042\n",
      "13 185\n"
     ]
    },
    {
     "data": {
      "image/png": "[encoded data removed]",
      "text/plain": [
       "<Figure size 640x480 with 1 Axes>"
      ]
     },
     "metadata": {},
     "output_type": "display_data"
    },
    {
     "name": "stdout",
     "output_type": "stream",
     "text": [
      "xa.s12.00.mhz.1971-10-18HR00_evid00043\n",
      "13 17\n"
     ]
    },
    {
     "data": {
      "image/png": "[encoded data removed]",
      "text/plain": [
       "<Figure size 640x480 with 1 Axes>"
      ]
     },
     "metadata": {},
     "output_type": "display_data"
    },
    {
     "name": "stdout",
     "output_type": "stream",
     "text": [
      "xa.s12.00.mhz.1971-10-20HR00_evid00044\n",
      "13 206\n"
     ]
    },
    {
     "data": {
      "image/png": "[encoded data removed]",
      "text/plain": [
       "<Figure size 640x480 with 1 Axes>"
      ]
     },
     "metadata": {},
     "output_type": "display_data"
    },
    {
     "name": "stdout",
     "output_type": "stream",
     "text": [
      "xa.s12.00.mhz.1971-10-31HR00_evid00045\n",
      "13 217\n"
     ]
    },
    {
     "data": {
      "image/png": "[encoded data removed]",
      "text/plain": [
       "<Figure size 640x480 with 1 Axes>"
      ]
     },
     "metadata": {},
     "output_type": "display_data"
    },
    {
     "name": "stdout",
     "output_type": "stream",
     "text": [
      "xa.s12.00.mhz.1971-11-14HR00_evid00046\n",
      "13 215\n"
     ]
    },
    {
     "data": {
      "image/png": "[encoded data removed]",
      "text/plain": [
       "<Figure size 640x480 with 1 Axes>"
      ]
     },
     "metadata": {},
     "output_type": "display_data"
    },
    {
     "name": "stdout",
     "output_type": "stream",
     "text": [
      "xa.s12.00.mhz.1972-01-04HR00_evid00049\n",
      "13 39\n"
     ]
    },
    {
     "data": {
      "image/png": "[encoded data removed]",
      "text/plain": [
       "<Figure size 640x480 with 1 Axes>"
      ]
     },
     "metadata": {},
     "output_type": "display_data"
    },
    {
     "name": "stdout",
     "output_type": "stream",
     "text": [
      "xa.s12.00.mhz.1972-03-12HR00_evid00052\n",
      "13 202\n"
     ]
    },
    {
     "data": {
      "image/png": "[encoded data removed]",
      "text/plain": [
       "<Figure size 640x480 with 1 Axes>"
      ]
     },
     "metadata": {},
     "output_type": "display_data"
    },
    {
     "name": "stdout",
     "output_type": "stream",
     "text": [
      "xa.s12.00.mhz.1972-05-11HR00_evid00055\n",
      "13 57\n"
     ]
    },
    {
     "data": {
      "image/png": "[encoded data removed]",
      "text/plain": [
       "<Figure size 640x480 with 1 Axes>"
      ]
     },
     "metadata": {},
     "output_type": "display_data"
    },
    {
     "name": "stdout",
     "output_type": "stream",
     "text": [
      "xa.s12.00.mhz.1972-06-16HR00_evid00060\n",
      "13 205\n"
     ]
    },
    {
     "data": {
      "image/png": "[encoded data removed]",
      "text/plain": [
       "<Figure size 640x480 with 1 Axes>"
      ]
     },
     "metadata": {},
     "output_type": "display_data"
    },
    {
     "name": "stdout",
     "output_type": "stream",
     "text": [
      "xa.s12.00.mhz.1972-07-17HR00_evid00067\n",
      "13 188\n"
     ]
    },
    {
     "data": {
      "image/png": "[encoded data removed]",
      "text/plain": [
       "<Figure size 640x480 with 1 Axes>"
      ]
     },
     "metadata": {},
     "output_type": "display_data"
    },
    {
     "name": "stdout",
     "output_type": "stream",
     "text": [
      "xa.s12.00.mhz.1972-07-17HR00_evid00068\n",
      "13 188\n"
     ]
    },
    {
     "data": {
      "image/png": "[encoded data removed]",
      "text/plain": [
       "<Figure size 640x480 with 1 Axes>"
      ]
     },
     "metadata": {},
     "output_type": "display_data"
    },
    {
     "name": "stdout",
     "output_type": "stream",
     "text": [
      "xa.s12.00.mhz.1972-07-28HR00_evid00070\n",
      "13 195\n"
     ]
    },
    {
     "data": {
      "image/png": "[encoded data removed]",
      "text/plain": [
       "<Figure size 640x480 with 1 Axes>"
      ]
     },
     "metadata": {},
     "output_type": "display_data"
    },
    {
     "name": "stdout",
     "output_type": "stream",
     "text": [
      "xa.s12.00.mhz.1972-07-31HR00_evid00071\n",
      "13 214\n"
     ]
    },
    {
     "data": {
      "image/png": "[encoded data removed]",
      "text/plain": [
       "<Figure size 640x480 with 1 Axes>"
      ]
     },
     "metadata": {},
     "output_type": "display_data"
    },
    {
     "name": "stdout",
     "output_type": "stream",
     "text": [
      "xa.s12.00.mhz.1972-12-02HR00_evid00083\n",
      "13 83\n"
     ]
    },
    {
     "data": {
      "image/png": "[encoded data removed]",
      "text/plain": [
       "<Figure size 640x480 with 1 Axes>"
      ]
     },
     "metadata": {},
     "output_type": "display_data"
    },
    {
     "name": "stdout",
     "output_type": "stream",
     "text": [
      "xa.s12.00.mhz.1972-12-03HR00_evid00084\n",
      "13 212\n"
     ]
    },
    {
     "data": {
      "image/png": "[encoded data removed]",
      "text/plain": [
       "<Figure size 640x480 with 1 Axes>"
      ]
     },
     "metadata": {},
     "output_type": "display_data"
    },
    {
     "name": "stdout",
     "output_type": "stream",
     "text": [
      "xa.s12.00.mhz.1973-01-18HR00_evid00088\n",
      "13 217\n"
     ]
    },
    {
     "data": {
      "image/png": "[encoded data removed]",
      "text/plain": [
       "<Figure size 640x480 with 1 Axes>"
      ]
     },
     "metadata": {},
     "output_type": "display_data"
    },
    {
     "name": "stdout",
     "output_type": "stream",
     "text": [
      "xa.s12.00.mhz.1973-01-31HR00_evid00091\n",
      "13 135\n"
     ]
    },
    {
     "data": {
      "image/png": "[encoded data removed]",
      "text/plain": [
       "<Figure size 640x480 with 1 Axes>"
      ]
     },
     "metadata": {},
     "output_type": "display_data"
    },
    {
     "name": "stdout",
     "output_type": "stream",
     "text": [
      "xa.s12.00.mhz.1973-03-01HR00_evid00093\n",
      "13 146\n"
     ]
    },
    {
     "data": {
      "image/png": "[encoded data removed]",
      "text/plain": [
       "<Figure size 640x480 with 1 Axes>"
      ]
     },
     "metadata": {},
     "output_type": "display_data"
    },
    {
     "name": "stdout",
     "output_type": "stream",
     "text": [
      "xa.s12.00.mhz.1973-03-13HR00_evid00094\n",
      "13 160\n"
     ]
    },
    {
     "data": {
      "image/png": "[encoded data removed]",
      "text/plain": [
       "<Figure size 640x480 with 1 Axes>"
      ]
     },
     "metadata": {},
     "output_type": "display_data"
    },
    {
     "name": "stdout",
     "output_type": "stream",
     "text": [
      "xa.s12.00.mhz.1973-03-24HR00_evid00097\n",
      "13 217\n"
     ]
    },
    {
     "data": {
      "image/png": "[encoded data removed]",
      "text/plain": [
       "<Figure size 640x480 with 1 Axes>"
      ]
     },
     "metadata": {},
     "output_type": "display_data"
    },
    {
     "name": "stdout",
     "output_type": "stream",
     "text": [
      "xa.s12.00.mhz.1973-05-14HR00_evid00104\n",
      "13 118\n"
     ]
    },
    {
     "data": {
      "image/png": "[encoded data removed]",
      "text/plain": [
       "<Figure size 640x480 with 1 Axes>"
      ]
     },
     "metadata": {},
     "output_type": "display_data"
    },
    {
     "name": "stdout",
     "output_type": "stream",
     "text": [
      "xa.s12.00.mhz.1973-06-05HR00_evid00107\n",
      "13 202\n"
     ]
    },
    {
     "data": {
      "image/png": "[encoded data removed]",
      "text/plain": [
       "<Figure size 640x480 with 1 Axes>"
      ]
     },
     "metadata": {},
     "output_type": "display_data"
    },
    {
     "name": "stdout",
     "output_type": "stream",
     "text": [
      "xa.s12.00.mhz.1973-06-05HR00_evid00108\n",
      "13 202\n"
     ]
    },
    {
     "data": {
      "image/png": "[encoded data removed]",
      "text/plain": [
       "<Figure size 640x480 with 1 Axes>"
      ]
     },
     "metadata": {},
     "output_type": "display_data"
    },
    {
     "name": "stdout",
     "output_type": "stream",
     "text": [
      "xa.s12.00.mhz.1973-06-18HR00_evid00109\n",
      "13 100\n"
     ]
    },
    {
     "data": {
      "image/png": "[encoded data removed]",
      "text/plain": [
       "<Figure size 640x480 with 1 Axes>"
      ]
     },
     "metadata": {},
     "output_type": "display_data"
    },
    {
     "name": "stdout",
     "output_type": "stream",
     "text": [
      "xa.s12.00.mhz.1973-06-27HR00_evid00112\n",
      "13 184\n"
     ]
    },
    {
     "data": {
      "image/png": "[encoded data removed]",
      "text/plain": [
       "<Figure size 640x480 with 1 Axes>"
      ]
     },
     "metadata": {},
     "output_type": "display_data"
    },
    {
     "name": "stdout",
     "output_type": "stream",
     "text": [
      "xa.s12.00.mhz.1973-07-03HR00_evid00113\n",
      "13 211\n"
     ]
    },
    {
     "data": {
      "image/png": "[encoded data removed]",
      "text/plain": [
       "<Figure size 640x480 with 1 Axes>"
      ]
     },
     "metadata": {},
     "output_type": "display_data"
    },
    {
     "name": "stdout",
     "output_type": "stream",
     "text": [
      "xa.s12.00.mhz.1973-07-04HR00_evid00114\n",
      "13 216\n"
     ]
    },
    {
     "data": {
      "image/png": "[encoded data removed]",
      "text/plain": [
       "<Figure size 640x480 with 1 Axes>"
      ]
     },
     "metadata": {},
     "output_type": "display_data"
    },
    {
     "name": "stdout",
     "output_type": "stream",
     "text": [
      "xa.s12.00.mhz.1973-07-20HR00_evid00117\n",
      "13 162\n"
     ]
    },
    {
     "data": {
      "image/png": "[encoded data removed]",
      "text/plain": [
       "<Figure size 640x480 with 1 Axes>"
      ]
     },
     "metadata": {},
     "output_type": "display_data"
    },
    {
     "name": "stdout",
     "output_type": "stream",
     "text": [
      "xa.s12.00.mhz.1973-07-28HR00_evid00120\n",
      "13 213\n"
     ]
    },
    {
     "data": {
      "image/png": "[encoded data removed]",
      "text/plain": [
       "<Figure size 640x480 with 1 Axes>"
      ]
     },
     "metadata": {},
     "output_type": "display_data"
    },
    {
     "name": "stdout",
     "output_type": "stream",
     "text": [
      "xa.s12.00.mhz.1973-07-29HR00_evid00121\n",
      "13 140\n"
     ]
    },
    {
     "data": {
      "image/png": "[encoded data removed]",
      "text/plain": [
       "<Figure size 640x480 with 1 Axes>"
      ]
     },
     "metadata": {},
     "output_type": "display_data"
    },
    {
     "name": "stdout",
     "output_type": "stream",
     "text": [
      "xa.s12.00.mhz.1973-08-21HR00_evid00127\n",
      "13 184\n"
     ]
    },
    {
     "data": {
      "image/png": "[encoded data removed]",
      "text/plain": [
       "<Figure size 640x480 with 1 Axes>"
      ]
     },
     "metadata": {},
     "output_type": "display_data"
    },
    {
     "name": "stdout",
     "output_type": "stream",
     "text": [
      "xa.s12.00.mhz.1974-01-10HR00_evid00136\n",
      "13 204\n"
     ]
    },
    {
     "data": {
      "image/png": "[encoded data removed]",
      "text/plain": [
       "<Figure size 640x480 with 1 Axes>"
      ]
     },
     "metadata": {},
     "output_type": "display_data"
    },
    {
     "name": "stdout",
     "output_type": "stream",
     "text": [
      "xa.s12.00.mhz.1974-02-07HR00_evid00137\n",
      "13 183\n"
     ]
    },
    {
     "data": {
      "image/png": "[encoded data removed]",
      "text/plain": [
       "<Figure size 640x480 with 1 Axes>"
      ]
     },
     "metadata": {},
     "output_type": "display_data"
    },
    {
     "name": "stdout",
     "output_type": "stream",
     "text": [
      "xa.s12.00.mhz.1974-02-12HR00_evid00138\n",
      "13 199\n"
     ]
    },
    {
     "data": {
      "image/png": "[encoded data removed]",
      "text/plain": [
       "<Figure size 640x480 with 1 Axes>"
      ]
     },
     "metadata": {},
     "output_type": "display_data"
    },
    {
     "name": "stdout",
     "output_type": "stream",
     "text": [
      "xa.s12.00.mhz.1974-03-25HR00_evid00140\n",
      "13 90\n"
     ]
    },
    {
     "data": {
      "image/png": "[encoded data removed]",
      "text/plain": [
       "<Figure size 640x480 with 1 Axes>"
      ]
     },
     "metadata": {},
     "output_type": "display_data"
    },
    {
     "name": "stdout",
     "output_type": "stream",
     "text": [
      "xa.s12.00.mhz.1974-04-08HR00_evid00141\n",
      "13 114\n"
     ]
    },
    {
     "data": {
      "image/png": "[encoded data removed]",
      "text/plain": [
       "<Figure size 640x480 with 1 Axes>"
      ]
     },
     "metadata": {},
     "output_type": "display_data"
    },
    {
     "name": "stdout",
     "output_type": "stream",
     "text": [
      "xa.s12.00.mhz.1974-04-19HR00_evid00142\n",
      "13 121\n"
     ]
    },
    {
     "data": {
      "image/png": "[encoded data removed]",
      "text/plain": [
       "<Figure size 640x480 with 1 Axes>"
      ]
     },
     "metadata": {},
     "output_type": "display_data"
    },
    {
     "name": "stdout",
     "output_type": "stream",
     "text": [
      "xa.s12.00.mhz.1974-04-26HR00_evid00144\n",
      "13 217\n"
     ]
    },
    {
     "data": {
      "image/png": "[encoded data removed]",
      "text/plain": [
       "<Figure size 640x480 with 1 Axes>"
      ]
     },
     "metadata": {},
     "output_type": "display_data"
    },
    {
     "name": "stdout",
     "output_type": "stream",
     "text": [
      "xa.s12.00.mhz.1974-04-27HR00_evid00145\n",
      "13 208\n"
     ]
    },
    {
     "data": {
      "image/png": "[encoded data removed]",
      "text/plain": [
       "<Figure size 640x480 with 1 Axes>"
      ]
     },
     "metadata": {},
     "output_type": "display_data"
    },
    {
     "name": "stdout",
     "output_type": "stream",
     "text": [
      "xa.s12.00.mhz.1974-06-25HR00_evid00149\n",
      "13 83\n"
     ]
    },
    {
     "data": {
      "image/png": "[encoded data removed]",
      "text/plain": [
       "<Figure size 640x480 with 1 Axes>"
      ]
     },
     "metadata": {},
     "output_type": "display_data"
    },
    {
     "name": "stdout",
     "output_type": "stream",
     "text": [
      "xa.s12.00.mhz.1974-07-06HR00_evid00150\n",
      "13 214\n"
     ]
    },
    {
     "data": {
      "image/png": "[encoded data removed]",
      "text/plain": [
       "<Figure size 640x480 with 1 Axes>"
      ]
     },
     "metadata": {},
     "output_type": "display_data"
    },
    {
     "name": "stdout",
     "output_type": "stream",
     "text": [
      "xa.s12.00.mhz.1974-07-06HR00_evid00151\n",
      "13 214\n"
     ]
    },
    {
     "data": {
      "image/png": "[encoded data removed]",
      "text/plain": [
       "<Figure size 640x480 with 1 Axes>"
      ]
     },
     "metadata": {},
     "output_type": "display_data"
    },
    {
     "name": "stdout",
     "output_type": "stream",
     "text": [
      "xa.s12.00.mhz.1974-07-11HR00_evid00152\n",
      "13 201\n"
     ]
    },
    {
     "data": {
      "image/png": "[encoded data removed]",
      "text/plain": [
       "<Figure size 640x480 with 1 Axes>"
      ]
     },
     "metadata": {},
     "output_type": "display_data"
    },
    {
     "name": "stdout",
     "output_type": "stream",
     "text": [
      "xa.s12.00.mhz.1974-07-17HR00_evid00153\n",
      "13 212\n"
     ]
    },
    {
     "data": {
      "image/png": "[encoded data removed]",
      "text/plain": [
       "<Figure size 640x480 with 1 Axes>"
      ]
     },
     "metadata": {},
     "output_type": "display_data"
    },
    {
     "name": "stdout",
     "output_type": "stream",
     "text": [
      "xa.s12.00.mhz.1974-10-14HR00_evid00156\n",
      "13 194\n"
     ]
    },
    {
     "data": {
      "image/png": "[encoded data removed]",
      "text/plain": [
       "<Figure size 640x480 with 1 Axes>"
      ]
     },
     "metadata": {},
     "output_type": "display_data"
    },
    {
     "name": "stdout",
     "output_type": "stream",
     "text": [
      "xa.s12.00.mhz.1975-04-12HR00_evid00191\n",
      "13 164\n"
     ]
    },
    {
     "data": {
      "image/png": "[encoded data removed]",
      "text/plain": [
       "<Figure size 640x480 with 1 Axes>"
      ]
     },
     "metadata": {},
     "output_type": "display_data"
    },
    {
     "name": "stdout",
     "output_type": "stream",
     "text": [
      "xa.s12.00.mhz.1975-05-04HR00_evid00192\n",
      "13 221\n"
     ]
    },
    {
     "data": {
      "image/png": "[encoded data removed]",
      "text/plain": [
       "<Figure size 640x480 with 1 Axes>"
      ]
     },
     "metadata": {},
     "output_type": "display_data"
    },
    {
     "name": "stdout",
     "output_type": "stream",
     "text": [
      "xa.s12.00.mhz.1975-06-24HR00_evid00196\n",
      "13 184\n"
     ]
    },
    {
     "data": {
      "image/png": "[encoded data removed]",
      "text/plain": [
       "<Figure size 640x480 with 1 Axes>"
      ]
     },
     "metadata": {},
     "output_type": "display_data"
    },
    {
     "name": "stdout",
     "output_type": "stream",
     "text": [
      "xa.s12.00.mhz.1975-06-26HR00_evid00198\n",
      "13 40\n"
     ]
    },
    {
     "data": {
      "image/png": "[encoded data removed]",
      "text/plain": [
       "<Figure size 640x480 with 1 Axes>"
      ]
     },
     "metadata": {},
     "output_type": "display_data"
    }
   ],
   "source": [
    "path_c_moon = './data/lunar/training/catalogs/apollo12_catalog_GradeA_final.csv'\n",
    "moon_catalog_sub = detect_arrival_end_catalog(path_c_moon, type= 'lunar', sh = True)"
   ]
  },
  {
   "cell_type": "markdown",
   "metadata": {},
   "source": [
    "Se calculan las diferencias entre los arrivals detectados y los reales."
   ]
  },
  {
   "cell_type": "code",
   "execution_count": 113,
   "metadata": {},
   "outputs": [],
   "source": [
    "moon_catalog_sub['Diferencia'] = abs(moon_catalog_sub['time_rel(sec)']-moon_catalog_sub['arrival_img'])"
   ]
  },
  {
   "cell_type": "code",
   "execution_count": 114,
   "metadata": {},
   "outputs": [],
   "source": [
    "#Descomentar estas secciones si se quiere ver el df entero.\n",
    "\n",
    "#pd.set_option('display.max_rows', None)  # Mostrar todas las filas\n",
    "#pd.set_option('display.max_columns', None)  # Mostrar todas las columnas\n",
    "moon_catalog_sub['Ventana'] = moon_catalog_sub['end_img'] - moon_catalog_sub['arrival_img']\n"
   ]
  },
  {
   "cell_type": "code",
   "execution_count": 115,
   "metadata": {},
   "outputs": [],
   "source": [
    "moon_catalog_sub['Diferencia_tasa'] = 100 - moon_catalog_sub['Ventana']*100 / 600000"
   ]
  },
  {
   "cell_type": "code",
   "execution_count": 116,
   "metadata": {},
   "outputs": [],
   "source": [
    "moon_catalog_sub['Ahorro'] = 1 - (moon_catalog_sub['Ventana'] / moon_catalog_sub['len_time'])"
   ]
  },
  {
   "cell_type": "markdown",
   "metadata": {},
   "source": [
    "Se obtiene el ahorro de datos promedio"
   ]
  },
  {
   "cell_type": "code",
   "execution_count": 117,
   "metadata": {},
   "outputs": [
    {
     "data": {
      "text/plain": [
       "0.7903277463435466"
      ]
     },
     "execution_count": 117,
     "metadata": {},
     "output_type": "execute_result"
    }
   ],
   "source": [
    "ahorro_prom = np.mean(moon_catalog_sub['Ahorro'])\n",
    "ahorro_prom"
   ]
  },
  {
   "cell_type": "code",
   "execution_count": 138,
   "metadata": {},
   "outputs": [
    {
     "data": {
      "text/html": [
       "<div>\n",
       "<style scoped>\n",
       "    .dataframe tbody tr th:only-of-type {\n",
       "        vertical-align: middle;\n",
       "    }\n",
       "\n",
       "    .dataframe tbody tr th {\n",
       "        vertical-align: top;\n",
       "    }\n",
       "\n",
       "    .dataframe thead th {\n",
       "        text-align: right;\n",
       "    }\n",
       "</style>\n",
       "<table border=\"1\" class=\"dataframe\">\n",
       "  <thead>\n",
       "    <tr style=\"text-align: right;\">\n",
       "      <th></th>\n",
       "      <th>filename</th>\n",
       "      <th>time_abs(%Y-%m-%dT%H:%M:%S.%f)</th>\n",
       "      <th>time_rel(sec)</th>\n",
       "      <th>evid</th>\n",
       "      <th>mq_type</th>\n",
       "      <th>arrival_img</th>\n",
       "      <th>end_img</th>\n",
       "      <th>len_time</th>\n",
       "      <th>Diferencia</th>\n",
       "      <th>Ventana</th>\n",
       "      <th>Diferencia_tasa</th>\n",
       "      <th>Ahorro</th>\n",
       "    </tr>\n",
       "  </thead>\n",
       "  <tbody>\n",
       "    <tr>\n",
       "      <th>0</th>\n",
       "      <td>xa.s12.00.mhz.1970-01-19HR00_evid00002</td>\n",
       "      <td>1970-01-19T20:25:00.000000</td>\n",
       "      <td>73500.0</td>\n",
       "      <td>evid00002</td>\n",
       "      <td>impact_mq</td>\n",
       "      <td>73608.291171</td>\n",
       "      <td>75536.127368</td>\n",
       "      <td>86402.113208</td>\n",
       "      <td>108.291171</td>\n",
       "      <td>1927.836197</td>\n",
       "      <td>99.678694</td>\n",
       "      <td>0.977688</td>\n",
       "    </tr>\n",
       "    <tr>\n",
       "      <th>1</th>\n",
       "      <td>xa.s12.00.mhz.1970-03-25HR00_evid00003</td>\n",
       "      <td>1970-03-25T03:32:00.000000</td>\n",
       "      <td>12720.0</td>\n",
       "      <td>evid00003</td>\n",
       "      <td>impact_mq</td>\n",
       "      <td>17700.917754</td>\n",
       "      <td>82195.350760</td>\n",
       "      <td>86401.509434</td>\n",
       "      <td>4980.917754</td>\n",
       "      <td>64494.433005</td>\n",
       "      <td>89.250928</td>\n",
       "      <td>0.253550</td>\n",
       "    </tr>\n",
       "    <tr>\n",
       "      <th>2</th>\n",
       "      <td>xa.s12.00.mhz.1970-03-26HR00_evid00004</td>\n",
       "      <td>1970-03-26T20:17:00.000000</td>\n",
       "      <td>73020.0</td>\n",
       "      <td>evid00004</td>\n",
       "      <td>impact_mq</td>\n",
       "      <td>73432.520188</td>\n",
       "      <td>78865.475143</td>\n",
       "      <td>86401.509434</td>\n",
       "      <td>412.520188</td>\n",
       "      <td>5432.954954</td>\n",
       "      <td>99.094508</td>\n",
       "      <td>0.937120</td>\n",
       "    </tr>\n",
       "    <tr>\n",
       "      <th>3</th>\n",
       "      <td>xa.s12.00.mhz.1970-04-25HR00_evid00006</td>\n",
       "      <td>1970-04-25T01:14:00.000000</td>\n",
       "      <td>4440.0</td>\n",
       "      <td>evid00006</td>\n",
       "      <td>impact_mq</td>\n",
       "      <td>4381.445903</td>\n",
       "      <td>6134.024264</td>\n",
       "      <td>86402.113208</td>\n",
       "      <td>58.554097</td>\n",
       "      <td>1752.578361</td>\n",
       "      <td>99.707904</td>\n",
       "      <td>0.979716</td>\n",
       "    </tr>\n",
       "    <tr>\n",
       "      <th>4</th>\n",
       "      <td>xa.s12.00.mhz.1970-04-26HR00_evid00007</td>\n",
       "      <td>1970-04-26T14:29:00.000000</td>\n",
       "      <td>52140.0</td>\n",
       "      <td>evid00007</td>\n",
       "      <td>deep_mq</td>\n",
       "      <td>52226.470206</td>\n",
       "      <td>53628.523097</td>\n",
       "      <td>86401.509434</td>\n",
       "      <td>86.470206</td>\n",
       "      <td>1402.052891</td>\n",
       "      <td>99.766325</td>\n",
       "      <td>0.983773</td>\n",
       "    </tr>\n",
       "    <tr>\n",
       "      <th>...</th>\n",
       "      <td>...</td>\n",
       "      <td>...</td>\n",
       "      <td>...</td>\n",
       "      <td>...</td>\n",
       "      <td>...</td>\n",
       "      <td>...</td>\n",
       "      <td>...</td>\n",
       "      <td>...</td>\n",
       "      <td>...</td>\n",
       "      <td>...</td>\n",
       "      <td>...</td>\n",
       "      <td>...</td>\n",
       "    </tr>\n",
       "    <tr>\n",
       "      <th>71</th>\n",
       "      <td>xa.s12.00.mhz.1974-10-14HR00_evid00156</td>\n",
       "      <td>1974-10-14T17:43:00.000000</td>\n",
       "      <td>63780.0</td>\n",
       "      <td>evid00156</td>\n",
       "      <td>impact_mq</td>\n",
       "      <td>64144.704198</td>\n",
       "      <td>65546.774236</td>\n",
       "      <td>86402.566038</td>\n",
       "      <td>364.704198</td>\n",
       "      <td>1402.070037</td>\n",
       "      <td>99.766322</td>\n",
       "      <td>0.983773</td>\n",
       "    </tr>\n",
       "    <tr>\n",
       "      <th>72</th>\n",
       "      <td>xa.s12.00.mhz.1975-04-12HR00_evid00191</td>\n",
       "      <td>1975-04-12T18:15:00.000000</td>\n",
       "      <td>65700.0</td>\n",
       "      <td>evid00191</td>\n",
       "      <td>impact_mq</td>\n",
       "      <td>66248.387921</td>\n",
       "      <td>67475.209920</td>\n",
       "      <td>86403.320755</td>\n",
       "      <td>548.387921</td>\n",
       "      <td>1226.821999</td>\n",
       "      <td>99.795530</td>\n",
       "      <td>0.985801</td>\n",
       "    </tr>\n",
       "    <tr>\n",
       "      <th>73</th>\n",
       "      <td>xa.s12.00.mhz.1975-05-04HR00_evid00192</td>\n",
       "      <td>1975-05-04T10:05:00.000000</td>\n",
       "      <td>36300.0</td>\n",
       "      <td>evid00192</td>\n",
       "      <td>impact_mq</td>\n",
       "      <td>36453.820965</td>\n",
       "      <td>38031.149757</td>\n",
       "      <td>86402.566038</td>\n",
       "      <td>153.820965</td>\n",
       "      <td>1577.328792</td>\n",
       "      <td>99.737112</td>\n",
       "      <td>0.981744</td>\n",
       "    </tr>\n",
       "    <tr>\n",
       "      <th>74</th>\n",
       "      <td>xa.s12.00.mhz.1975-06-24HR00_evid00196</td>\n",
       "      <td>1975-06-24T16:03:00.000000</td>\n",
       "      <td>57780.0</td>\n",
       "      <td>evid00196</td>\n",
       "      <td>impact_mq</td>\n",
       "      <td>57834.681771</td>\n",
       "      <td>58360.451605</td>\n",
       "      <td>86401.509434</td>\n",
       "      <td>54.681771</td>\n",
       "      <td>525.769834</td>\n",
       "      <td>99.912372</td>\n",
       "      <td>0.993915</td>\n",
       "    </tr>\n",
       "    <tr>\n",
       "      <th>75</th>\n",
       "      <td>xa.s12.00.mhz.1975-06-26HR00_evid00198</td>\n",
       "      <td>1975-06-26T03:24:00.000000</td>\n",
       "      <td>12240.0</td>\n",
       "      <td>evid00198</td>\n",
       "      <td>impact_mq</td>\n",
       "      <td>12443.132458</td>\n",
       "      <td>79390.690191</td>\n",
       "      <td>86400.905660</td>\n",
       "      <td>203.132458</td>\n",
       "      <td>66947.557733</td>\n",
       "      <td>88.842074</td>\n",
       "      <td>0.225152</td>\n",
       "    </tr>\n",
       "  </tbody>\n",
       "</table>\n",
       "<p>76 rows × 12 columns</p>\n",
       "</div>"
      ],
      "text/plain": [
       "                                  filename time_abs(%Y-%m-%dT%H:%M:%S.%f)  \\\n",
       "0   xa.s12.00.mhz.1970-01-19HR00_evid00002     1970-01-19T20:25:00.000000   \n",
       "1   xa.s12.00.mhz.1970-03-25HR00_evid00003     1970-03-25T03:32:00.000000   \n",
       "2   xa.s12.00.mhz.1970-03-26HR00_evid00004     1970-03-26T20:17:00.000000   \n",
       "3   xa.s12.00.mhz.1970-04-25HR00_evid00006     1970-04-25T01:14:00.000000   \n",
       "4   xa.s12.00.mhz.1970-04-26HR00_evid00007     1970-04-26T14:29:00.000000   \n",
       "..                                     ...                            ...   \n",
       "71  xa.s12.00.mhz.1974-10-14HR00_evid00156     1974-10-14T17:43:00.000000   \n",
       "72  xa.s12.00.mhz.1975-04-12HR00_evid00191     1975-04-12T18:15:00.000000   \n",
       "73  xa.s12.00.mhz.1975-05-04HR00_evid00192     1975-05-04T10:05:00.000000   \n",
       "74  xa.s12.00.mhz.1975-06-24HR00_evid00196     1975-06-24T16:03:00.000000   \n",
       "75  xa.s12.00.mhz.1975-06-26HR00_evid00198     1975-06-26T03:24:00.000000   \n",
       "\n",
       "    time_rel(sec)       evid    mq_type   arrival_img       end_img  \\\n",
       "0         73500.0  evid00002  impact_mq  73608.291171  75536.127368   \n",
       "1         12720.0  evid00003  impact_mq  17700.917754  82195.350760   \n",
       "2         73020.0  evid00004  impact_mq  73432.520188  78865.475143   \n",
       "3          4440.0  evid00006  impact_mq   4381.445903   6134.024264   \n",
       "4         52140.0  evid00007    deep_mq  52226.470206  53628.523097   \n",
       "..            ...        ...        ...           ...           ...   \n",
       "71        63780.0  evid00156  impact_mq  64144.704198  65546.774236   \n",
       "72        65700.0  evid00191  impact_mq  66248.387921  67475.209920   \n",
       "73        36300.0  evid00192  impact_mq  36453.820965  38031.149757   \n",
       "74        57780.0  evid00196  impact_mq  57834.681771  58360.451605   \n",
       "75        12240.0  evid00198  impact_mq  12443.132458  79390.690191   \n",
       "\n",
       "        len_time   Diferencia       Ventana  Diferencia_tasa    Ahorro  \n",
       "0   86402.113208   108.291171   1927.836197        99.678694  0.977688  \n",
       "1   86401.509434  4980.917754  64494.433005        89.250928  0.253550  \n",
       "2   86401.509434   412.520188   5432.954954        99.094508  0.937120  \n",
       "3   86402.113208    58.554097   1752.578361        99.707904  0.979716  \n",
       "4   86401.509434    86.470206   1402.052891        99.766325  0.983773  \n",
       "..           ...          ...           ...              ...       ...  \n",
       "71  86402.566038   364.704198   1402.070037        99.766322  0.983773  \n",
       "72  86403.320755   548.387921   1226.821999        99.795530  0.985801  \n",
       "73  86402.566038   153.820965   1577.328792        99.737112  0.981744  \n",
       "74  86401.509434    54.681771    525.769834        99.912372  0.993915  \n",
       "75  86400.905660   203.132458  66947.557733        88.842074  0.225152  \n",
       "\n",
       "[76 rows x 12 columns]"
      ]
     },
     "execution_count": 138,
     "metadata": {},
     "output_type": "execute_result"
    }
   ],
   "source": [
    "moon_catalog_sub"
   ]
  },
  {
   "cell_type": "markdown",
   "metadata": {},
   "source": [
    "Se obtiene el promedio de las diferencias para ver el promedio de error en arrivals."
   ]
  },
  {
   "cell_type": "code",
   "execution_count": 139,
   "metadata": {},
   "outputs": [
    {
     "data": {
      "text/plain": [
       "10433.811272411578"
      ]
     },
     "execution_count": 139,
     "metadata": {},
     "output_type": "execute_result"
    }
   ],
   "source": [
    "mean = np.mean(moon_catalog_sub['Diferencia'])\n",
    "mean"
   ]
  },
  {
   "cell_type": "markdown",
   "metadata": {},
   "source": [
    "Vemos la distribución de las diferencias para ver las arrivals detectadas muy mal"
   ]
  },
  {
   "cell_type": "code",
   "execution_count": 120,
   "metadata": {},
   "outputs": [
    {
     "data": {
      "image/png": "[encoded data removed]",
      "text/plain": [
       "<Figure size 640x480 with 1 Axes>"
      ]
     },
     "metadata": {},
     "output_type": "display_data"
    }
   ],
   "source": [
    "sns.boxplot(moon_catalog_sub, x='Diferencia')\n",
    "q1 = moon_catalog_sub['Diferencia'].quantile(q = 0.25)\n",
    "q3 = moon_catalog_sub['Diferencia'].quantile(q = 0.75)\n",
    "ric = q3 - q1\n",
    "lower_bound = q1 - 1.5 * ric\n",
    "upper_bound = q3 + 1.5 * ric    "
   ]
  },
  {
   "cell_type": "code",
   "execution_count": 121,
   "metadata": {},
   "outputs": [
    {
     "data": {
      "text/plain": [
       "<Axes: xlabel='Ahorro', ylabel='Count'>"
      ]
     },
     "execution_count": 121,
     "metadata": {},
     "output_type": "execute_result"
    },
    {
     "data": {
      "image/png": "[encoded data removed]",
      "text/plain": [
       "<Figure size 640x480 with 1 Axes>"
      ]
     },
     "metadata": {},
     "output_type": "display_data"
    }
   ],
   "source": [
    "sns.histplot(moon_catalog_sub, x='Ahorro')  "
   ]
  },
  {
   "cell_type": "code",
   "execution_count": 122,
   "metadata": {},
   "outputs": [
    {
     "data": {
      "text/plain": [
       "0.973630831643002"
      ]
     },
     "execution_count": 122,
     "metadata": {},
     "output_type": "execute_result"
    }
   ],
   "source": [
    "np.median(moon_catalog_sub['Ahorro'])"
   ]
  },
  {
   "cell_type": "code",
   "execution_count": 123,
   "metadata": {},
   "outputs": [
    {
     "data": {
      "text/plain": [
       "<Axes: xlabel='Ahorro', ylabel='Count'>"
      ]
     },
     "execution_count": 123,
     "metadata": {},
     "output_type": "execute_result"
    },
    {
     "data": {
      "image/png": "[encoded data removed]",
      "text/plain": [
       "<Figure size 640x480 with 1 Axes>"
      ]
     },
     "metadata": {},
     "output_type": "display_data"
    }
   ],
   "source": [
    "sns.histplot(moon_catalog_sub['Ahorro'])"
   ]
  },
  {
   "cell_type": "markdown",
   "metadata": {},
   "source": [
    "## Detecciones vs tiempos reales"
   ]
  },
  {
   "cell_type": "code",
   "execution_count": 124,
   "metadata": {},
   "outputs": [
    {
     "data": {
      "image/png": "[encoded data removed]",
      "text/plain": [
       "<Figure size 1500x800 with 1 Axes>"
      ]
     },
     "metadata": {},
     "output_type": "display_data"
    }
   ],
   "source": [
    "plt.figure(figsize=(15, 8))\n",
    "\n",
    "# Primer scatterplot con 'x' y hue basado en mq_type\n",
    "sns.scatterplot(x=range(len(moon_catalog_sub['arrival_img'])), \n",
    "                y=moon_catalog_sub['arrival_img'], \n",
    "                hue=moon_catalog_sub['mq_type'],\n",
    "                marker='x', \n",
    "                s=100,  # tamaño de los puntos\n",
    "                legend='full'  # muestra leyenda completa\n",
    "                )\n",
    "\n",
    "moon_catalog_sub['time_rel(sec)']\n",
    "# Segundo scatterplot para destacar todos los puntos en amarillo\n",
    "sns.scatterplot(x=range(len(moon_catalog_sub['time_rel(sec)'])), \n",
    "                y=moon_catalog_sub['time_rel(sec)'], \n",
    "                color='yellow', \n",
    "                alpha=0.5,  # añade transparencia para ver los puntos debajo\n",
    "                legend=False  # no mostrar leyenda\n",
    "                )\n",
    "\n",
    "plt.show()\n",
    "\n"
   ]
  },
  {
   "cell_type": "markdown",
   "metadata": {},
   "source": [
    "Filtramos los datos que se consideran atípicos (muy mal detectados)"
   ]
  },
  {
   "cell_type": "code",
   "execution_count": 125,
   "metadata": {},
   "outputs": [],
   "source": [
    "q1 = moon_catalog_sub['Diferencia'].quantile(q = 0.25)\n",
    "q3 = moon_catalog_sub['Diferencia'].quantile(q = 0.75)\n",
    "ric = q3 - q1\n",
    "lower_bound = q1 - 1.5 * ric\n",
    "upper_bound = q3 + 1.5 * ric  "
   ]
  },
  {
   "cell_type": "code",
   "execution_count": 126,
   "metadata": {},
   "outputs": [],
   "source": [
    "moon_catalog_sub_filtred = moon_catalog_sub[(moon_catalog_sub['Diferencia'] >= lower_bound) & (moon_catalog_sub['Diferencia'] <= upper_bound)]"
   ]
  },
  {
   "cell_type": "markdown",
   "metadata": {},
   "source": [
    "Observamos la cantidad y proporcion de arrivals muy mal detectados"
   ]
  },
  {
   "cell_type": "code",
   "execution_count": 127,
   "metadata": {},
   "outputs": [
    {
     "data": {
      "text/plain": [
       "11"
      ]
     },
     "execution_count": 127,
     "metadata": {},
     "output_type": "execute_result"
    }
   ],
   "source": [
    "cant_mal_marcados = len(moon_catalog_sub) - len(moon_catalog_sub_filtred)\n",
    "cant_mal_marcados"
   ]
  },
  {
   "cell_type": "markdown",
   "metadata": {},
   "source": [
    "Obtenemos un promedio de diferencia sin tener en cuenta los arrivals muy mal detectados"
   ]
  },
  {
   "cell_type": "code",
   "execution_count": 128,
   "metadata": {},
   "outputs": [
    {
     "data": {
      "text/plain": [
       "3813.996553196124"
      ]
     },
     "execution_count": 128,
     "metadata": {},
     "output_type": "execute_result"
    }
   ],
   "source": [
    "promedio_sin_atipicos = np.mean(moon_catalog_sub_filtred['Diferencia'])\n",
    "promedio_sin_atipicos"
   ]
  },
  {
   "cell_type": "code",
   "execution_count": 140,
   "metadata": {},
   "outputs": [
    {
     "data": {
      "text/plain": [
       "0.8513028553596506"
      ]
     },
     "execution_count": 140,
     "metadata": {},
     "output_type": "execute_result"
    }
   ],
   "source": [
    "promedio_ahorro_sin_atipicos = np.mean(moon_catalog_sub_filtred['Ahorro'])\n",
    "promedio_ahorro_sin_atipicos"
   ]
  },
  {
   "cell_type": "code",
   "execution_count": 142,
   "metadata": {},
   "outputs": [
    {
     "data": {
      "text/plain": [
       "0.9797160243407708"
      ]
     },
     "execution_count": 142,
     "metadata": {},
     "output_type": "execute_result"
    }
   ],
   "source": [
    "median_ahorro_sin_atipicos = np.median(moon_catalog_sub_filtred['Ahorro'])\n",
    "median_ahorro_sin_atipicos"
   ]
  },
  {
   "cell_type": "markdown",
   "metadata": {},
   "source": [
    "## Deteccion arrival y end para mars train"
   ]
  },
  {
   "cell_type": "code",
   "execution_count": 129,
   "metadata": {},
   "outputs": [],
   "source": [
    "mars_ex = read('./data/mars/training/data/XB.ELYSE.02.BHV.2022-01-02HR04_evid0006.mseed')"
   ]
  },
  {
   "cell_type": "code",
   "execution_count": 130,
   "metadata": {},
   "outputs": [
    {
     "data": {
      "text/plain": [
       "XB.ELYSE.02.BHV | 2022-01-02T04:00:00.025000Z - 2022-01-02T04:59:59.975000Z | 20.0 Hz, 72000 samples"
      ]
     },
     "execution_count": 130,
     "metadata": {},
     "output_type": "execute_result"
    }
   ],
   "source": [
    "mars_ex[0]"
   ]
  },
  {
   "cell_type": "code",
   "execution_count": 131,
   "metadata": {},
   "outputs": [],
   "source": [
    "image, len_t = imagen(mars_ex[0])"
   ]
  },
  {
   "cell_type": "code",
   "execution_count": 132,
   "metadata": {},
   "outputs": [
    {
     "data": {
      "image/png": "[encoded data removed]",
      "text/plain": [
       "<Figure size 640x480 with 1 Axes>"
      ]
     },
     "metadata": {},
     "output_type": "display_data"
    },
    {
     "data": {
      "text/plain": [
       "(<Figure size 640x480 with 1 Axes>,\n",
       " <matplotlib.image.AxesImage at 0x22dbbd258d0>,\n",
       " None)"
      ]
     },
     "execution_count": 132,
     "metadata": {},
     "output_type": "execute_result"
    }
   ],
   "source": [
    "plt.figure(),plt.imshow(image, cmap = 'gray'), plt.show()"
   ]
  },
  {
   "cell_type": "code",
   "execution_count": 133,
   "metadata": {},
   "outputs": [
    {
     "name": "stdout",
     "output_type": "stream",
     "text": [
      "13 215\n"
     ]
    },
    {
     "data": {
      "image/png": "[encoded data removed]",
      "text/plain": [
       "<Figure size 640x480 with 1 Axes>"
      ]
     },
     "metadata": {},
     "output_type": "display_data"
    },
    {
     "data": {
      "text/plain": [
       "(85, 368)"
      ]
     },
     "execution_count": 133,
     "metadata": {},
     "output_type": "execute_result"
    }
   ],
   "source": [
    "detect(image, type_mq='mars', sh = True)"
   ]
  },
  {
   "cell_type": "code",
   "execution_count": 134,
   "metadata": {},
   "outputs": [
    {
     "name": "stdout",
     "output_type": "stream",
     "text": [
      "XB.ELYSE.02.BHV.2022-02-03HR08_evid0005.csv\n",
      "13 188\n",
      "XB.ELYSE.02.BHV.2022-01-02HR04_evid0006.csv\n",
      "13 215\n"
     ]
    }
   ],
   "source": [
    "mars_c_path = './data/mars/training/catalogs/Mars_InSight_training_catalog_final.csv'\n",
    "\n",
    "mars_c_sub = detect_arrival_end_catalog(mars_c_path, type= 'mars')"
   ]
  },
  {
   "cell_type": "code",
   "execution_count": 135,
   "metadata": {},
   "outputs": [],
   "source": [
    "mars_c_sub['Diferencia'] = abs(mars_c_sub['time_rel(sec)'] - mars_c_sub['end_img'])"
   ]
  },
  {
   "cell_type": "code",
   "execution_count": 136,
   "metadata": {},
   "outputs": [
    {
     "data": {
      "text/html": [
       "<div>\n",
       "<style scoped>\n",
       "    .dataframe tbody tr th:only-of-type {\n",
       "        vertical-align: middle;\n",
       "    }\n",
       "\n",
       "    .dataframe tbody tr th {\n",
       "        vertical-align: top;\n",
       "    }\n",
       "\n",
       "    .dataframe thead th {\n",
       "        text-align: right;\n",
       "    }\n",
       "</style>\n",
       "<table border=\"1\" class=\"dataframe\">\n",
       "  <thead>\n",
       "    <tr style=\"text-align: right;\">\n",
       "      <th></th>\n",
       "      <th>filename</th>\n",
       "      <th>time_abs(%Y-%m-%dT%H:%M:%S.%f)</th>\n",
       "      <th>time_rel(sec)</th>\n",
       "      <th>evid</th>\n",
       "      <th>arrival_img</th>\n",
       "      <th>end_img</th>\n",
       "      <th>len_time</th>\n",
       "      <th>Diferencia</th>\n",
       "    </tr>\n",
       "  </thead>\n",
       "  <tbody>\n",
       "    <tr>\n",
       "      <th>0</th>\n",
       "      <td>XB.ELYSE.02.BHV.2022-02-03HR08_evid0005.csv</td>\n",
       "      <td>2022-02-03T08:08:27.000000</td>\n",
       "      <td>507.0</td>\n",
       "      <td>evid0005</td>\n",
       "      <td>693.702333</td>\n",
       "      <td>715.608722</td>\n",
       "      <td>3599.95</td>\n",
       "      <td>208.608722</td>\n",
       "    </tr>\n",
       "    <tr>\n",
       "      <th>1</th>\n",
       "      <td>XB.ELYSE.02.BHV.2022-01-02HR04_evid0006.csv</td>\n",
       "      <td>2022-01-02T04:35:30.000000</td>\n",
       "      <td>2130.0</td>\n",
       "      <td>evid0006</td>\n",
       "      <td>620.681034</td>\n",
       "      <td>2687.183773</td>\n",
       "      <td>3599.95</td>\n",
       "      <td>557.183773</td>\n",
       "    </tr>\n",
       "  </tbody>\n",
       "</table>\n",
       "</div>"
      ],
      "text/plain": [
       "                                      filename time_abs(%Y-%m-%dT%H:%M:%S.%f)  \\\n",
       "0  XB.ELYSE.02.BHV.2022-02-03HR08_evid0005.csv     2022-02-03T08:08:27.000000   \n",
       "1  XB.ELYSE.02.BHV.2022-01-02HR04_evid0006.csv     2022-01-02T04:35:30.000000   \n",
       "\n",
       "   time_rel(sec)      evid  arrival_img      end_img  len_time  Diferencia  \n",
       "0          507.0  evid0005   693.702333   715.608722   3599.95  208.608722  \n",
       "1         2130.0  evid0006   620.681034  2687.183773   3599.95  557.183773  "
      ]
     },
     "execution_count": 136,
     "metadata": {},
     "output_type": "execute_result"
    }
   ],
   "source": [
    "mars_c_sub"
   ]
  },
  {
   "cell_type": "code",
   "execution_count": 137,
   "metadata": {},
   "outputs": [
    {
     "data": {
      "text/plain": [
       "382.8962474645029"
      ]
     },
     "execution_count": 137,
     "metadata": {},
     "output_type": "execute_result"
    }
   ],
   "source": [
    "np.mean(mars_c_sub['Diferencia'])"
   ]
  }
 ],
 "metadata": {
  "kernelspec": {
   "display_name": "Python 3",
   "language": "python",
   "name": "python3"
  },
  "language_info": {
   "codemirror_mode": {
    "name": "ipython",
    "version": 3
   },
   "file_extension": ".py",
   "mimetype": "text/x-python",
   "name": "python",
   "nbconvert_exporter": "python",
   "pygments_lexer": "ipython3",
   "version": "3.11.9"
  }
 },
 "nbformat": 4,
 "nbformat_minor": 2
}
